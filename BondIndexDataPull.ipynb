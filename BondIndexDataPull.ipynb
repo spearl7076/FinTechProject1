{
 "cells": [
  {
   "cell_type": "code",
   "execution_count": 7,
   "metadata": {},
   "outputs": [],
   "source": [
    "import os\n",
    "import requests\n",
    "import pandas as pd\n",
    "from dotenv import load_dotenv\n",
    "import alpaca_trade_api as tradeapi\n",
    "from pathlib import Path\n",
    "import panel as pn\n",
    "from panel.interact import interact\n",
    "import plotly.express as px\n",
    "pn.extension(\"plotly\")\n",
    "import hvplot.pandas\n",
    "from empyrial import empyrial, Engine\n",
    "\n",
    "%matplotlib inline"
   ]
  },
  {
   "cell_type": "code",
   "execution_count": 8,
   "metadata": {},
   "outputs": [
    {
     "data": {
      "text/plain": [
       "True"
      ]
     },
     "execution_count": 8,
     "metadata": {},
     "output_type": "execute_result"
    }
   ],
   "source": [
    "# Load .env environment variables\n",
    "load_dotenv()"
   ]
  },
  {
   "cell_type": "code",
   "execution_count": 9,
   "metadata": {},
   "outputs": [],
   "source": [
    "# Set Alpaca API key and secret\n",
    "alpaca_api_key = os.getenv(\"ALPACA_API_KEY\")\n",
    "alpaca_secret_key = os.getenv(\"ALPACA_SECRET_KEY\")"
   ]
  },
  {
   "cell_type": "code",
   "execution_count": 10,
   "metadata": {},
   "outputs": [
    {
     "ename": "ValueError",
     "evalue": "Secret key must be given to access Alpaca trade API (env: APCA_API_SECRET_KEY",
     "output_type": "error",
     "traceback": [
      "\u001b[1;31m---------------------------------------------------------------------------\u001b[0m",
      "\u001b[1;31mValueError\u001b[0m                                Traceback (most recent call last)",
      "\u001b[1;32mC:\\Users\\WILLIA~1\\AppData\\Local\\Temp/ipykernel_7316/3540297626.py\u001b[0m in \u001b[0;36m<module>\u001b[1;34m\u001b[0m\n\u001b[0;32m      3\u001b[0m     \u001b[0malpaca_api_key\u001b[0m\u001b[1;33m,\u001b[0m\u001b[1;33m\u001b[0m\u001b[1;33m\u001b[0m\u001b[0m\n\u001b[0;32m      4\u001b[0m     \u001b[0malpaca_secret_key\u001b[0m\u001b[1;33m,\u001b[0m\u001b[1;33m\u001b[0m\u001b[1;33m\u001b[0m\u001b[0m\n\u001b[1;32m----> 5\u001b[1;33m     api_version=\"v2\")\n\u001b[0m",
      "\u001b[1;32m~\\.conda\\envs\\pyvizenv\\lib\\site-packages\\alpaca_trade_api\\rest.py\u001b[0m in \u001b[0;36m__init__\u001b[1;34m(self, key_id, secret_key, base_url, api_version, oauth, raw_data)\u001b[0m\n\u001b[0;32m    167\u001b[0m         \"\"\"\n\u001b[0;32m    168\u001b[0m         self._key_id, self._secret_key, self._oauth = get_credentials(\n\u001b[1;32m--> 169\u001b[1;33m             key_id, secret_key, oauth)\n\u001b[0m\u001b[0;32m    170\u001b[0m         \u001b[0mself\u001b[0m\u001b[1;33m.\u001b[0m\u001b[0m_base_url\u001b[0m\u001b[1;33m:\u001b[0m \u001b[0mURL\u001b[0m \u001b[1;33m=\u001b[0m \u001b[0mURL\u001b[0m\u001b[1;33m(\u001b[0m\u001b[0mbase_url\u001b[0m \u001b[1;32mor\u001b[0m \u001b[0mget_base_url\u001b[0m\u001b[1;33m(\u001b[0m\u001b[1;33m)\u001b[0m\u001b[1;33m)\u001b[0m\u001b[1;33m\u001b[0m\u001b[1;33m\u001b[0m\u001b[0m\n\u001b[0;32m    171\u001b[0m         \u001b[0mself\u001b[0m\u001b[1;33m.\u001b[0m\u001b[0m_api_version\u001b[0m \u001b[1;33m=\u001b[0m \u001b[0mget_api_version\u001b[0m\u001b[1;33m(\u001b[0m\u001b[0mapi_version\u001b[0m\u001b[1;33m)\u001b[0m\u001b[1;33m\u001b[0m\u001b[1;33m\u001b[0m\u001b[0m\n",
      "\u001b[1;32m~\\.conda\\envs\\pyvizenv\\lib\\site-packages\\alpaca_trade_api\\common.py\u001b[0m in \u001b[0;36mget_credentials\u001b[1;34m(key_id, secret_key, oauth)\u001b[0m\n\u001b[0;32m     87\u001b[0m     \u001b[0msecret_key\u001b[0m \u001b[1;33m=\u001b[0m \u001b[0msecret_key\u001b[0m \u001b[1;32mor\u001b[0m \u001b[0mos\u001b[0m\u001b[1;33m.\u001b[0m\u001b[0menviron\u001b[0m\u001b[1;33m.\u001b[0m\u001b[0mget\u001b[0m\u001b[1;33m(\u001b[0m\u001b[1;34m'APCA_API_SECRET_KEY'\u001b[0m\u001b[1;33m)\u001b[0m\u001b[1;33m\u001b[0m\u001b[1;33m\u001b[0m\u001b[0m\n\u001b[0;32m     88\u001b[0m     \u001b[1;32mif\u001b[0m \u001b[0msecret_key\u001b[0m \u001b[1;32mis\u001b[0m \u001b[1;32mNone\u001b[0m \u001b[1;32mand\u001b[0m \u001b[0moauth\u001b[0m \u001b[1;32mis\u001b[0m \u001b[1;32mNone\u001b[0m\u001b[1;33m:\u001b[0m\u001b[1;33m\u001b[0m\u001b[1;33m\u001b[0m\u001b[0m\n\u001b[1;32m---> 89\u001b[1;33m         raise ValueError('Secret key must be given to access Alpaca trade API'\n\u001b[0m\u001b[0;32m     90\u001b[0m                          ' (env: APCA_API_SECRET_KEY')\n\u001b[0;32m     91\u001b[0m \u001b[1;33m\u001b[0m\u001b[0m\n",
      "\u001b[1;31mValueError\u001b[0m: Secret key must be given to access Alpaca trade API (env: APCA_API_SECRET_KEY"
     ]
    }
   ],
   "source": [
    "# Create the Alpaca API object\n",
    "alpaca = tradeapi.REST(\n",
    "    alpaca_api_key,\n",
    "    alpaca_secret_key,\n",
    "    api_version=\"v2\")"
   ]
  },
  {
   "cell_type": "code",
   "execution_count": null,
   "metadata": {},
   "outputs": [],
   "source": [
    "# Format start and end dates as ISO format for our bond indices\n",
    "tickers = ['AGG', 'TIP', 'SHY', 'TLT', 'VNQ', 'XLE']\n",
    "start_date = pd.Timestamp(\"1990-01-01\", tz=\"America/New_York\").isoformat()\n",
    "end_date = pd.Timestamp(\"2022-04-20\", tz=\"America/New_York\").isoformat()\n",
    "\n",
    "bond_index_portfolio = alpaca.get_bars(\n",
    "    tickers,\n",
    "    timeframe=\"1Day\",\n",
    "    start = start_date,\n",
    "    end = end_date\n",
    ").df"
   ]
  },
  {
   "cell_type": "code",
   "execution_count": null,
   "metadata": {},
   "outputs": [
    {
     "data": {
      "text/html": [
       "<div>\n",
       "<style scoped>\n",
       "    .dataframe tbody tr th:only-of-type {\n",
       "        vertical-align: middle;\n",
       "    }\n",
       "\n",
       "    .dataframe tbody tr th {\n",
       "        vertical-align: top;\n",
       "    }\n",
       "\n",
       "    .dataframe thead th {\n",
       "        text-align: right;\n",
       "    }\n",
       "</style>\n",
       "<table border=\"1\" class=\"dataframe\">\n",
       "  <thead>\n",
       "    <tr style=\"text-align: right;\">\n",
       "      <th></th>\n",
       "      <th>open</th>\n",
       "      <th>high</th>\n",
       "      <th>low</th>\n",
       "      <th>close</th>\n",
       "      <th>volume</th>\n",
       "      <th>trade_count</th>\n",
       "      <th>vwap</th>\n",
       "      <th>symbol</th>\n",
       "    </tr>\n",
       "  </thead>\n",
       "  <tbody>\n",
       "    <tr>\n",
       "      <th>2015-12-01</th>\n",
       "      <td>108.54</td>\n",
       "      <td>108.8400</td>\n",
       "      <td>108.43</td>\n",
       "      <td>108.82</td>\n",
       "      <td>4259986</td>\n",
       "      <td>15562</td>\n",
       "      <td>108.754152</td>\n",
       "      <td>AGG</td>\n",
       "    </tr>\n",
       "    <tr>\n",
       "      <th>2015-12-02</th>\n",
       "      <td>108.73</td>\n",
       "      <td>108.7799</td>\n",
       "      <td>108.61</td>\n",
       "      <td>108.67</td>\n",
       "      <td>2462787</td>\n",
       "      <td>11581</td>\n",
       "      <td>108.684692</td>\n",
       "      <td>AGG</td>\n",
       "    </tr>\n",
       "    <tr>\n",
       "      <th>2015-12-03</th>\n",
       "      <td>108.41</td>\n",
       "      <td>108.4100</td>\n",
       "      <td>107.81</td>\n",
       "      <td>107.89</td>\n",
       "      <td>4634020</td>\n",
       "      <td>16801</td>\n",
       "      <td>108.040315</td>\n",
       "      <td>AGG</td>\n",
       "    </tr>\n",
       "    <tr>\n",
       "      <th>2015-12-04</th>\n",
       "      <td>108.05</td>\n",
       "      <td>108.3000</td>\n",
       "      <td>108.00</td>\n",
       "      <td>108.24</td>\n",
       "      <td>2182057</td>\n",
       "      <td>9796</td>\n",
       "      <td>108.192232</td>\n",
       "      <td>AGG</td>\n",
       "    </tr>\n",
       "    <tr>\n",
       "      <th>2015-12-07</th>\n",
       "      <td>108.30</td>\n",
       "      <td>108.5800</td>\n",
       "      <td>108.23</td>\n",
       "      <td>108.40</td>\n",
       "      <td>2143773</td>\n",
       "      <td>9104</td>\n",
       "      <td>108.460067</td>\n",
       "      <td>AGG</td>\n",
       "    </tr>\n",
       "  </tbody>\n",
       "</table>\n",
       "</div>"
      ],
      "text/plain": [
       "              open      high     low   close   volume  trade_count  \\\n",
       "2015-12-01  108.54  108.8400  108.43  108.82  4259986        15562   \n",
       "2015-12-02  108.73  108.7799  108.61  108.67  2462787        11581   \n",
       "2015-12-03  108.41  108.4100  107.81  107.89  4634020        16801   \n",
       "2015-12-04  108.05  108.3000  108.00  108.24  2182057         9796   \n",
       "2015-12-07  108.30  108.5800  108.23  108.40  2143773         9104   \n",
       "\n",
       "                  vwap symbol  \n",
       "2015-12-01  108.754152    AGG  \n",
       "2015-12-02  108.684692    AGG  \n",
       "2015-12-03  108.040315    AGG  \n",
       "2015-12-04  108.192232    AGG  \n",
       "2015-12-07  108.460067    AGG  "
      ]
     },
     "execution_count": 73,
     "metadata": {},
     "output_type": "execute_result"
    }
   ],
   "source": [
    "# sets the index as a dateformat\n",
    "bond_index_portfolio.index = bond_index_portfolio.index.date\n",
    "bond_index_portfolio.head()"
   ]
  },
  {
   "cell_type": "code",
   "execution_count": null,
   "metadata": {},
   "outputs": [
    {
     "data": {
      "text/html": [
       "<div>\n",
       "<style scoped>\n",
       "    .dataframe tbody tr th:only-of-type {\n",
       "        vertical-align: middle;\n",
       "    }\n",
       "\n",
       "    .dataframe tbody tr th {\n",
       "        vertical-align: top;\n",
       "    }\n",
       "\n",
       "    .dataframe thead th {\n",
       "        text-align: right;\n",
       "    }\n",
       "</style>\n",
       "<table border=\"1\" class=\"dataframe\">\n",
       "  <thead>\n",
       "    <tr style=\"text-align: right;\">\n",
       "      <th></th>\n",
       "      <th>AGG</th>\n",
       "      <th>TIP</th>\n",
       "      <th>SHY</th>\n",
       "      <th>TLT</th>\n",
       "      <th>VNQ</th>\n",
       "      <th>XLE</th>\n",
       "    </tr>\n",
       "  </thead>\n",
       "  <tbody>\n",
       "    <tr>\n",
       "      <th>2015-12-01</th>\n",
       "      <td>108.82</td>\n",
       "      <td>111.21</td>\n",
       "      <td>84.58</td>\n",
       "      <td>122.83</td>\n",
       "      <td>80.49</td>\n",
       "      <td>68.56</td>\n",
       "    </tr>\n",
       "    <tr>\n",
       "      <th>2015-12-02</th>\n",
       "      <td>108.67</td>\n",
       "      <td>110.83</td>\n",
       "      <td>84.51</td>\n",
       "      <td>122.87</td>\n",
       "      <td>78.85</td>\n",
       "      <td>66.44</td>\n",
       "    </tr>\n",
       "    <tr>\n",
       "      <th>2015-12-03</th>\n",
       "      <td>107.89</td>\n",
       "      <td>110.14</td>\n",
       "      <td>84.51</td>\n",
       "      <td>119.54</td>\n",
       "      <td>77.61</td>\n",
       "      <td>65.11</td>\n",
       "    </tr>\n",
       "    <tr>\n",
       "      <th>2015-12-04</th>\n",
       "      <td>108.24</td>\n",
       "      <td>110.42</td>\n",
       "      <td>84.53</td>\n",
       "      <td>120.58</td>\n",
       "      <td>79.08</td>\n",
       "      <td>64.74</td>\n",
       "    </tr>\n",
       "    <tr>\n",
       "      <th>2015-12-07</th>\n",
       "      <td>108.40</td>\n",
       "      <td>110.38</td>\n",
       "      <td>84.52</td>\n",
       "      <td>121.75</td>\n",
       "      <td>78.85</td>\n",
       "      <td>62.26</td>\n",
       "    </tr>\n",
       "  </tbody>\n",
       "</table>\n",
       "</div>"
      ],
      "text/plain": [
       "               AGG     TIP    SHY     TLT    VNQ    XLE\n",
       "2015-12-01  108.82  111.21  84.58  122.83  80.49  68.56\n",
       "2015-12-02  108.67  110.83  84.51  122.87  78.85  66.44\n",
       "2015-12-03  107.89  110.14  84.51  119.54  77.61  65.11\n",
       "2015-12-04  108.24  110.42  84.53  120.58  79.08  64.74\n",
       "2015-12-07  108.40  110.38  84.52  121.75  78.85  62.26"
      ]
     },
     "execution_count": 74,
     "metadata": {},
     "output_type": "execute_result"
    }
   ],
   "source": [
    "#reformats the data\n",
    "bond_index_portfolio = bond_index_portfolio.drop(columns=['open','high','low','volume','trade_count','vwap'])\n",
    "AGG_closes = bond_index_portfolio[bond_index_portfolio['symbol']=='AGG'].drop('symbol', axis=1)\n",
    "TIP_closes = bond_index_portfolio[bond_index_portfolio['symbol']=='TIP'].drop('symbol', axis=1)\n",
    "SHY_closes = bond_index_portfolio[bond_index_portfolio['symbol']=='SHY'].drop('symbol', axis=1)\n",
    "TLT_closes = bond_index_portfolio[bond_index_portfolio['symbol']=='TLT'].drop('symbol', axis=1)\n",
    "VNQ_closes = bond_index_portfolio[bond_index_portfolio['symbol']=='VNQ'].drop('symbol', axis=1)\n",
    "XLE_closes = bond_index_portfolio[bond_index_portfolio['symbol']=='XLE'].drop('symbol', axis=1)\n",
    "bond_index_portfolio_close = pd.concat([AGG_closes, TIP_closes, SHY_closes, TLT_closes,\n",
    "VNQ_closes, XLE_closes],axis=1, keys=['AGG', 'TIP', 'SHY', 'TLT', 'VNQ', 'XLE'])\n",
    "\n",
    "bond_index_all = pd.DataFrame()\n",
    "bond_index_all[\"AGG\"] = bond_index_portfolio_close[\"AGG\"][\"close\"]\n",
    "bond_index_all[\"TIP\"] = bond_index_portfolio_close[\"TIP\"][\"close\"]\n",
    "bond_index_all[\"SHY\"] = bond_index_portfolio_close[\"SHY\"][\"close\"]\n",
    "bond_index_all[\"TLT\"] = bond_index_portfolio_close[\"TLT\"][\"close\"]\n",
    "bond_index_all[\"VNQ\"] = bond_index_portfolio_close[\"VNQ\"][\"close\"]\n",
    "bond_index_all[\"XLE\"] = bond_index_portfolio_close[\"XLE\"][\"close\"]\n",
    "bond_index_all.head()\n",
    "\n"
   ]
  },
  {
   "cell_type": "code",
   "execution_count": null,
   "metadata": {},
   "outputs": [],
   "source": [
    "#csvpath = Path('C:/Users/15613/FinTechWork/FinTechProject1/BondIndexData.csv')\n",
    "#bond_index_all.to_csv(csvpath)"
   ]
  },
  {
   "cell_type": "code",
   "execution_count": null,
   "metadata": {},
   "outputs": [
    {
     "data": {
      "application/vnd.jupyter.widget-view+json": {
       "model_id": "ede2c2e30a1147ca979ed3d596b1e1c3",
       "version_major": 2,
       "version_minor": 0
      },
      "text/plain": [
       "BokehModel(combine_events=True, render_bundle={'docs_json': {'868de7df-2a89-4b2d-ae89-c19d36884461': {'defs': …"
      ]
     },
     "metadata": {},
     "output_type": "display_data"
    },
    {
     "data": {
      "text/html": [
       "<div style=\"display: none\"></div>"
      ],
      "text/plain": [
       "Column(height=200)\n",
       "    [0] MultiChoice(name='Security List', options=['AGG', 'TIP', ...], value=['AGG'])"
      ]
     },
     "execution_count": 76,
     "metadata": {},
     "output_type": "execute_result"
    }
   ],
   "source": [
    "#creates a selection widget\n",
    "bond_tickers = pn.widgets.MultiChoice(name=\"Security List\", value=['AGG'],\n",
    "    options=tickers)\n",
    "pn.Column(bond_tickers, height=200)"
   ]
  },
  {
   "cell_type": "code",
   "execution_count": null,
   "metadata": {},
   "outputs": [
    {
     "data": {
      "text/html": [
       "<div>\n",
       "<style scoped>\n",
       "    .dataframe tbody tr th:only-of-type {\n",
       "        vertical-align: middle;\n",
       "    }\n",
       "\n",
       "    .dataframe tbody tr th {\n",
       "        vertical-align: top;\n",
       "    }\n",
       "\n",
       "    .dataframe thead th {\n",
       "        text-align: right;\n",
       "    }\n",
       "</style>\n",
       "<table border=\"1\" class=\"dataframe\">\n",
       "  <thead>\n",
       "    <tr style=\"text-align: right;\">\n",
       "      <th></th>\n",
       "      <th>AGG</th>\n",
       "      <th>SHY</th>\n",
       "      <th>TIP</th>\n",
       "    </tr>\n",
       "  </thead>\n",
       "  <tbody>\n",
       "    <tr>\n",
       "      <th>2015-12-01</th>\n",
       "      <td>108.82</td>\n",
       "      <td>84.58</td>\n",
       "      <td>111.21</td>\n",
       "    </tr>\n",
       "    <tr>\n",
       "      <th>2015-12-02</th>\n",
       "      <td>108.67</td>\n",
       "      <td>84.51</td>\n",
       "      <td>110.83</td>\n",
       "    </tr>\n",
       "    <tr>\n",
       "      <th>2015-12-03</th>\n",
       "      <td>107.89</td>\n",
       "      <td>84.51</td>\n",
       "      <td>110.14</td>\n",
       "    </tr>\n",
       "    <tr>\n",
       "      <th>2015-12-04</th>\n",
       "      <td>108.24</td>\n",
       "      <td>84.53</td>\n",
       "      <td>110.42</td>\n",
       "    </tr>\n",
       "    <tr>\n",
       "      <th>2015-12-07</th>\n",
       "      <td>108.40</td>\n",
       "      <td>84.52</td>\n",
       "      <td>110.38</td>\n",
       "    </tr>\n",
       "    <tr>\n",
       "      <th>...</th>\n",
       "      <td>...</td>\n",
       "      <td>...</td>\n",
       "      <td>...</td>\n",
       "    </tr>\n",
       "    <tr>\n",
       "      <th>2022-04-13</th>\n",
       "      <td>104.82</td>\n",
       "      <td>83.33</td>\n",
       "      <td>121.18</td>\n",
       "    </tr>\n",
       "    <tr>\n",
       "      <th>2022-04-14</th>\n",
       "      <td>103.97</td>\n",
       "      <td>83.18</td>\n",
       "      <td>121.17</td>\n",
       "    </tr>\n",
       "    <tr>\n",
       "      <th>2022-04-18</th>\n",
       "      <td>103.65</td>\n",
       "      <td>83.18</td>\n",
       "      <td>121.13</td>\n",
       "    </tr>\n",
       "    <tr>\n",
       "      <th>2022-04-19</th>\n",
       "      <td>103.02</td>\n",
       "      <td>82.99</td>\n",
       "      <td>120.53</td>\n",
       "    </tr>\n",
       "    <tr>\n",
       "      <th>2022-04-20</th>\n",
       "      <td>103.61</td>\n",
       "      <td>83.04</td>\n",
       "      <td>121.42</td>\n",
       "    </tr>\n",
       "  </tbody>\n",
       "</table>\n",
       "<p>1608 rows × 3 columns</p>\n",
       "</div>"
      ],
      "text/plain": [
       "               AGG    SHY     TIP\n",
       "2015-12-01  108.82  84.58  111.21\n",
       "2015-12-02  108.67  84.51  110.83\n",
       "2015-12-03  107.89  84.51  110.14\n",
       "2015-12-04  108.24  84.53  110.42\n",
       "2015-12-07  108.40  84.52  110.38\n",
       "...            ...    ...     ...\n",
       "2022-04-13  104.82  83.33  121.18\n",
       "2022-04-14  103.97  83.18  121.17\n",
       "2022-04-18  103.65  83.18  121.13\n",
       "2022-04-19  103.02  82.99  120.53\n",
       "2022-04-20  103.61  83.04  121.42\n",
       "\n",
       "[1608 rows x 3 columns]"
      ]
     },
     "execution_count": 78,
     "metadata": {},
     "output_type": "execute_result"
    }
   ],
   "source": [
    "#creates a new dataframe from the widget selection\n",
    "selected_bond_indexes = bond_index_all[bond_tickers.value]\n",
    "selected_bond_indexes"
   ]
  }
 ],
 "metadata": {
  "interpreter": {
   "hash": "7367f8b440d3aecec3e946828b63fa3cb01a3fa53ece226087d1e5d7fc275e26"
  },
  "kernelspec": {
   "display_name": "Python 3.7.11",
   "language": "python",
   "name": "python3"
  },
  "language_info": {
   "codemirror_mode": {
    "name": "ipython",
    "version": 3
   },
   "file_extension": ".py",
   "mimetype": "text/x-python",
   "name": "python",
   "nbconvert_exporter": "python",
   "pygments_lexer": "ipython3",
   "version": "3.7.11"
  },
  "orig_nbformat": 4
 },
 "nbformat": 4,
 "nbformat_minor": 2
}
